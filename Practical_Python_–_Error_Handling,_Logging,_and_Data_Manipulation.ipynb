{
  "nbformat": 4,
  "nbformat_minor": 0,
  "metadata": {
    "colab": {
      "provenance": []
    },
    "kernelspec": {
      "name": "python3",
      "display_name": "Python 3"
    },
    "language_info": {
      "name": "python"
    }
  },
  "cells": [
    {
      "cell_type": "markdown",
      "source": [
        "#Q/A"
      ],
      "metadata": {
        "id": "h-3WwKaWsznQ"
      }
    },
    {
      "cell_type": "markdown",
      "source": [
        "**Question 1 : What is the difference between multithreading and multiprocessing?**\n",
        "\n",
        "Answer: Multithreading and multiprocessing are two techniques used to perform multiple tasks simultaneously, but they differ in how they utilize system resources.\n",
        "\n",
        "Multithreading: It involves running multiple threads within a single process. All threads share the same memory space, which allows for fast communication but also increases the risk of data conflicts. It is best suited for I/O-bound tasks, such as handling multiple user requests or downloading files, where the CPU often waits for external operations to complete.\n",
        "\n",
        "Multiprocessing: On the other hand, Multiprocessing uses multiple processes, each having its own memory space and system resources. This allows true parallel execution because each process runs independently on different CPU cores. It avoids memory sharing issues but requires more resources. It is ideal for CPU-bound tasks, such as data analysis, image processing, or mathematical computations.\n",
        "\n",
        "In summary, multithreading is efficient for tasks that require waiting (like input/output), while multiprocessing is more effective for computation-heavy tasks that can run in true parallel."
      ],
      "metadata": {
        "id": "lZUL1Wxfs6yj"
      }
    },
    {
      "cell_type": "markdown",
      "source": [
        "**Question 2: What are the challenges associated with memory management in Python?**\n",
        "\n",
        "Answer: Memory management in Python is largely automated, handled by the Python memory manager and garbage collector. However, several challenges can still arise that affect performance and efficiency.\n",
        "Reference Counting and Circular References:\n",
        " Python uses reference counting to manage memory, but when two or more objects reference each other (circular references), they may not be released automatically, leading to memory leaks.\n",
        "\n",
        "\n",
        "**Memory Fragmentation:**\n",
        " Continuous creation and deletion of objects of different sizes can cause fragmentation, where free memory is split into small, non-contiguous blocks. This reduces performance and increases memory usage.\n",
        "\n",
        "\n",
        "**Garbage Collection Overhead:**\n",
        " The garbage collector runs periodically to clean up unused objects, but during this process, the program may experience temporary slowdowns or increased CPU usage.\n",
        "\n",
        "\n",
        "**Large Object Retention:**\n",
        " Python’s memory allocator sometimes holds on to large memory blocks even after they are no longer needed, particularly in long-running applications, which leads to inefficient memory reuse.\n",
        "\n",
        "\n",
        "**Global Interpreter Lock (GIL) Limitation:**\n",
        " While not directly a memory issue, the GIL prevents true parallel execution of threads. This can limit the effectiveness of multithreading in memory-intensive applications.\n",
        "\n",
        "\n",
        "**Third-Party Module Inefficiency:**\n",
        " Some external libraries may not manage memory properly, leading to hidden leaks or unintentional retention of objects.\n",
        "\n",
        "\n",
        "In summary, while Python simplifies memory handling for developers, it still faces challenges like circular references, fragmentation, and garbage collection overhead, which can affect performance in complex or long-running programs.\n"
      ],
      "metadata": {
        "id": "d4ZyzVTttIaJ"
      }
    },
    {
      "cell_type": "markdown",
      "source": [
        "**Question 3: Write a Python program that logs an error message to a log file when a division by zero exception occurs.**\n",
        "\n",
        "Answer: Below is a Python program that handles a division by zero error and logs the error message to a file named error.log using Python’s built-in logging module."
      ],
      "metadata": {
        "id": "FDtl9Z3TtzF2"
      }
    },
    {
      "cell_type": "code",
      "source": [
        "import logging\n",
        "\n",
        "# Configure the logging settings\n",
        "logging.basicConfig(\n",
        "    filename='error.log',         # Log file name\n",
        "    level=logging.ERROR,          # Set the logging level\n",
        "    format='%(asctime)s - %(levelname)s - %(message)s'  # Log message format\n",
        ")\n",
        "\n",
        "try:\n",
        "    # Example division operation\n",
        "    numerator = 10\n",
        "    denominator = 0\n",
        "    result = numerator / denominator\n",
        "\n",
        "except ZeroDivisionError as e:\n",
        "    # Log the error message when division by zero occurs\n",
        "    logging.error(\"Division by zero error occurred: %s\", e)\n",
        "    print(\"An error occurred. Please check the log file for details.\")\n"
      ],
      "metadata": {
        "colab": {
          "base_uri": "https://localhost:8080/"
        },
        "id": "8KGN8bNVuASR",
        "outputId": "998bda8b-22ca-4499-fffb-f8bfba7946b6"
      },
      "execution_count": 1,
      "outputs": [
        {
          "output_type": "stream",
          "name": "stderr",
          "text": [
            "ERROR:root:Division by zero error occurred: division by zero\n"
          ]
        },
        {
          "output_type": "stream",
          "name": "stdout",
          "text": [
            "An error occurred. Please check the log file for details.\n"
          ]
        }
      ]
    },
    {
      "cell_type": "markdown",
      "source": [
        "**Question 4: Write a Python program that reads from one file and writes its content to another file.**\n",
        "\n",
        "Answer: Below is a simple Python program that reads data from one file and writes it to another file."
      ],
      "metadata": {
        "id": "eR32OKIkuIgW"
      }
    },
    {
      "cell_type": "code",
      "source": [
        "# Program to read content from one file and write it to another file\n",
        "\n",
        "try:\n",
        "    # Open the source file in read mode\n",
        "    with open(\"source.txt\", \"r\") as source_file:\n",
        "        # Read the content of the source file\n",
        "        content = source_file.read()\n",
        "\n",
        "    # Open the destination file in write mode\n",
        "    with open(\"destination.txt\", \"w\") as destination_file:\n",
        "        # Write the content to the destination file\n",
        "        destination_file.write(content)\n",
        "\n",
        "    print(\"File content has been successfully copied.\")\n",
        "\n",
        "except FileNotFoundError:\n",
        "    print(\"Error: The source file does not exist.\")\n",
        "except Exception as e:\n",
        "    print(f\"An error occurred: {e}\")\n"
      ],
      "metadata": {
        "colab": {
          "base_uri": "https://localhost:8080/"
        },
        "id": "yrRTCimeuPzB",
        "outputId": "d8522cd3-ba52-4fed-e9e0-4d2fe3ddd68d"
      },
      "execution_count": 2,
      "outputs": [
        {
          "output_type": "stream",
          "name": "stdout",
          "text": [
            "Error: The source file does not exist.\n"
          ]
        }
      ]
    },
    {
      "cell_type": "markdown",
      "source": [
        "Explanation:\n",
        "\n",
        "\n",
        "*   The program opens a file named source.txt in read mode and reads its content using the read() method.\n",
        "*   It then opens another file named destination.txt in write mode.\n",
        "*   The content from the source file is written to the destination file.\n",
        "*   The try-except block is used to handle possible errors, such as when the source file does not exist.\n",
        "*   The with statement ensures that files are automatically closed after their operations are complete.\n",
        "\n",
        "Output Example:\n",
        "If source.txt contains:\n",
        "\n",
        "\n"
      ],
      "metadata": {
        "id": "bXZ079GQua3k"
      }
    },
    {
      "cell_type": "code",
      "source": [
        "Hello, this is a test file.\n"
      ],
      "metadata": {
        "id": "tMjoy7uGu0yI"
      },
      "execution_count": null,
      "outputs": []
    },
    {
      "cell_type": "markdown",
      "source": [
        "Then, after running the program, destination.txt will contain:"
      ],
      "metadata": {
        "id": "dLwNpttCu2WO"
      }
    },
    {
      "cell_type": "code",
      "source": [
        "Hello, this is a test file.\n"
      ],
      "metadata": {
        "id": "3-VrCr3Lu4Ae"
      },
      "execution_count": null,
      "outputs": []
    },
    {
      "cell_type": "markdown",
      "source": [
        "**Question 5: Write a program that handles both IndexError and KeyError using a try-except block.**\n",
        "\n",
        "Below is a Python program that demonstrates how to handle both IndexError and KeyError exceptions using a try-except block."
      ],
      "metadata": {
        "id": "LvB12v1wvD7X"
      }
    },
    {
      "cell_type": "code",
      "source": [
        "# Program to handle IndexError and KeyError using try-except\n",
        "\n",
        "try:\n",
        "    # Example list and dictionary\n",
        "    numbers = [10, 20, 30]\n",
        "    data = {\"name\": \"Muskan\", \"age\": 21}\n",
        "\n",
        "    # Triggering IndexError\n",
        "    print(numbers[5])\n",
        "\n",
        "    # Triggering KeyError\n",
        "    print(data[\"address\"])\n",
        "\n",
        "except IndexError:\n",
        "    print(\"Error: You tried to access an index that does not exist in the list.\")\n",
        "\n",
        "except KeyError:\n",
        "    print(\"Error: The specified key is not present in the dictionary.\")\n",
        "\n",
        "except Exception as e:\n",
        "    print(f\"An unexpected error occurred: {e}\")\n"
      ],
      "metadata": {
        "colab": {
          "base_uri": "https://localhost:8080/"
        },
        "id": "o35mPS_ivKd3",
        "outputId": "8dab159c-cda5-4be8-9d72-1a156a733ab1"
      },
      "execution_count": 3,
      "outputs": [
        {
          "output_type": "stream",
          "name": "stdout",
          "text": [
            "Error: You tried to access an index that does not exist in the list.\n"
          ]
        }
      ]
    },
    {
      "cell_type": "markdown",
      "source": [
        "Explanation:\n",
        "\n",
        "*   The program defines a list numbers and a dictionary data.\n",
        "*   It deliberately tries to access a non-existent index (numbers[5]) and a missing key (data[\"address\"]) to demonstrate exception handling.\n",
        "*   The try block executes the code that might raise an error.\n",
        "*   The except IndexError block handles list index errors.\n",
        "*   The except KeyError block handles missing dictionary key errors.\n",
        "*   The final except Exception block ensures that any other unexpected errors are also caught gracefully.\n",
        "\n"
      ],
      "metadata": {
        "id": "_IuzTdiavOAV"
      }
    },
    {
      "cell_type": "markdown",
      "source": [
        "**Question 6: What are the differences between NumPy arrays and Python lists?**\n",
        "\n",
        "Both NumPy arrays and Python lists are used to store collections of data, but they differ significantly in terms of performance, memory efficiency, and functionality.\n",
        "\n",
        "1. Data Type:\n",
        "\n",
        "*   A Python list can store elements of different data types (e.g., integers, strings, floats together).\n",
        "*   A NumPy array can store elements of only one data type, which makes operations faster and more efficient.\n",
        "\n",
        "2. Performance:\n",
        "\n",
        "*   NumPy arrays are implemented in C, allowing vectorized operations and faster computation.\n",
        "*   Python lists are slower because they are interpreted at runtime and do not support vectorized operations.\n",
        "\n",
        "3. Memory Efficiency:\n",
        "\n",
        "*   NumPy arrays use less memory as they store data in contiguous memory locations.\n",
        "*   Python lists are less memory efficient because each element is an independent Python object.\n",
        "\n",
        "4. Functionality:\n",
        "\n",
        "*   NumPy arrays support mathematical and statistical operations directly (e.g., addition, multiplication, mean).\n",
        "*   Python lists do not support element-wise operations — you must use loops or list comprehensions instead.\n",
        "\n",
        "5. Size Handling:\n",
        "\n",
        "*   NumPy arrays have a fixed size once created.\n",
        "*   Python lists are dynamic — you can append or remove elements anytime.\n",
        "\n",
        "6. Example:"
      ],
      "metadata": {
        "id": "eN6urA8OviKS"
      }
    },
    {
      "cell_type": "code",
      "source": [
        "import numpy as np\n",
        "\n",
        "# NumPy array\n",
        "arr = np.array([1, 2, 3])\n",
        "print(arr * 2)   # Output: [2 4 6]\n",
        "\n",
        "# Python list\n",
        "lst = [1, 2, 3]\n",
        "print(lst * 2)   # Output: [1, 2, 3, 1, 2, 3]\n"
      ],
      "metadata": {
        "colab": {
          "base_uri": "https://localhost:8080/"
        },
        "id": "YpTZRjiOwVeQ",
        "outputId": "4fdf434c-bd38-4543-c0a5-6f31143e15ee"
      },
      "execution_count": 4,
      "outputs": [
        {
          "output_type": "stream",
          "name": "stdout",
          "text": [
            "[2 4 6]\n",
            "[1, 2, 3, 1, 2, 3]\n"
          ]
        }
      ]
    },
    {
      "cell_type": "markdown",
      "source": [
        "7. Use Cases:\n",
        "\n",
        "*   Use NumPy arrays for scientific computing, data analysis, and numerical operations.\n",
        "*   Use Python lists for general-purpose programming and when flexibility in data types is required.\n",
        "\n",
        "\n",
        "In summary, NumPy arrays are optimized for numerical and scientific computation, while Python lists are better suited for general-purpose data storage and manipulation."
      ],
      "metadata": {
        "id": "4156qSeRwYwL"
      }
    },
    {
      "cell_type": "markdown",
      "source": [
        "**Question 7:Explain the difference between apply() and map() in Pandas.**\n",
        "\n",
        "In Pandas, both apply() and map() are used to perform operations on data, but they differ in how and where they are applied.\n",
        "\n",
        "1. Functionality:\n",
        "\n",
        "*   The map() function is mainly used to transform or map values of a Series (one-dimensional data).\n",
        "*   The apply() function can be used on both DataFrames and Series to apply a function along an axis (rows or columns).\n",
        "\n",
        "2. Scope:\n",
        "\n",
        "*   map() works element-wise — it applies a function, dictionary, or Series mapping to each individual element of a Pandas Series.\n",
        "*   apply() works on rows or columns as a whole, allowing more complex operations involving multiple columns.\n",
        "\n",
        "3. Syntax:\n",
        "\n",
        "*   Series.map(function) → used only with Series.\n",
        "*   DataFrame.apply(function, axis) → used with DataFrames and Series.\n",
        "\n",
        "4. Example:\n",
        "\n"
      ],
      "metadata": {
        "id": "GaW2E1cswoxB"
      }
    },
    {
      "cell_type": "code",
      "source": [
        "import pandas as pd\n",
        "\n",
        "# Example DataFrame\n",
        "data = pd.DataFrame({\n",
        "    'A': [1, 2, 3],\n",
        "    'B': [10, 20, 30]\n",
        "})\n",
        "\n",
        "# Using map() on a Series\n",
        "data['A'] = data['A'].map(lambda x: x * 2)\n",
        "print(\"Using map():\\n\", data)\n",
        "\n",
        "# Using apply() on a DataFrame\n",
        "data['Sum'] = data.apply(lambda row: row['A'] + row['B'], axis=1)\n",
        "print(\"\\nUsing apply():\\n\", data)\n"
      ],
      "metadata": {
        "colab": {
          "base_uri": "https://localhost:8080/"
        },
        "id": "LfuqYXLtxJJx",
        "outputId": "67253c00-31e8-4b05-eb58-0294c365d6d6"
      },
      "execution_count": 5,
      "outputs": [
        {
          "output_type": "stream",
          "name": "stdout",
          "text": [
            "Using map():\n",
            "    A   B\n",
            "0  2  10\n",
            "1  4  20\n",
            "2  6  30\n",
            "\n",
            "Using apply():\n",
            "    A   B  Sum\n",
            "0  2  10   12\n",
            "1  4  20   24\n",
            "2  6  30   36\n"
          ]
        }
      ]
    },
    {
      "cell_type": "markdown",
      "source": [
        "5. Performance:\n",
        "\n",
        "*   map() is generally faster for simple element-wise transformations.\n",
        "*   apply() is more flexible but can be slower for large datasets since it processes row by row.\n",
        "\n",
        "In summary, map() is ideal for transforming individual Series elements, while apply() is better for performing custom operations across rows or columns in a DataFrame.\n",
        "\n"
      ],
      "metadata": {
        "id": "ym9zfADcxMVx"
      }
    },
    {
      "cell_type": "markdown",
      "source": [
        "**Question 8: Create a histogram using Seaborn to visualize a distribution.**\n",
        "\n",
        "Below is a Python program that uses the Seaborn library to create a histogram and visualize a data distribution."
      ],
      "metadata": {
        "id": "iXSMCrdSxV60"
      }
    },
    {
      "cell_type": "code",
      "source": [
        "# Import necessary libraries\n",
        "import seaborn as sns\n",
        "import matplotlib.pyplot as plt\n",
        "\n",
        "# Sample data: a list of ages\n",
        "ages = [18, 21, 22, 19, 25, 30, 32, 28, 26, 27, 24, 23, 29, 31, 35, 36, 38, 40, 22, 25]\n",
        "\n",
        "# Create a histogram using Seaborn\n",
        "sns.histplot(ages, bins=8, kde=True, color='skyblue')\n",
        "\n",
        "# Add title and labels\n",
        "plt.title(\"Age Distribution of Participants\")\n",
        "plt.xlabel(\"Age\")\n",
        "plt.ylabel(\"Frequency\")\n",
        "\n",
        "# Display the plot\n",
        "plt.show()\n"
      ],
      "metadata": {
        "colab": {
          "base_uri": "https://localhost:8080/",
          "height": 472
        },
        "id": "RFG-WRNRxY4K",
        "outputId": "400187a7-9105-4523-e404-208c25cc3578"
      },
      "execution_count": 6,
      "outputs": [
        {
          "output_type": "display_data",
          "data": {
            "text/plain": [
              "<Figure size 640x480 with 1 Axes>"
            ],
            "image/png": "[encoded data removed]"
          },
          "metadata": {}
        }
      ]
    },
    {
      "cell_type": "markdown",
      "source": [
        "Explanation:\n",
        "\n",
        "*   The Seaborn library’s histplot() function is used to create the histogram.\n",
        "*   The bins parameter defines the number of intervals (bars) in the histogram.\n",
        "*   The kde=True argument overlays a Kernel Density Estimate (KDE) curve, which shows the probability density of the data.\n",
        "*   Labels and a title are added using Matplotlib for better readability.\n",
        "*   The plt.show() function displays the final visualization.\n",
        "\n",
        "\n",
        "Output:\n",
        "\n",
        "A histogram will appear showing how the ages are distributed, with a smooth KDE curve overlaid — peaks representing the most common age ranges.\n",
        "\n"
      ],
      "metadata": {
        "id": "xOIvVSCqxeWO"
      }
    },
    {
      "cell_type": "markdown",
      "source": [
        "**Question 9: Use Pandas to load a CSV file and display its first 5 rows.**\n",
        "\n",
        "Below is a Python program that uses Pandas to read a CSV file and display its first five rows."
      ],
      "metadata": {
        "id": "kDcKy9Cixw1Z"
      }
    },
    {
      "cell_type": "code",
      "source": [
        "# Import the pandas library\n",
        "import pandas as pd\n",
        "\n",
        "# Load the CSV file\n",
        "# Replace 'data.csv' with the name of your CSV file\n",
        "data = pd.read_csv('data.csv')\n",
        "\n",
        "# Display the first 5 rows of the dataset\n",
        "print(data.head())\n"
      ],
      "metadata": {
        "colab": {
          "base_uri": "https://localhost:8080/",
          "height": 372
        },
        "id": "cRFztNtlx3Kc",
        "outputId": "f0a673a6-d96d-47e4-9963-2071732e1863"
      },
      "execution_count": 7,
      "outputs": [
        {
          "output_type": "error",
          "ename": "FileNotFoundError",
          "evalue": "[Errno 2] No such file or directory: 'data.csv'",
          "traceback": [
            "\u001b[0;31m---------------------------------------------------------------------------\u001b[0m",
            "\u001b[0;31mFileNotFoundError\u001b[0m                         Traceback (most recent call last)",
            "\u001b[0;32m/tmp/ipython-input-1429159705.py\u001b[0m in \u001b[0;36m<cell line: 0>\u001b[0;34m()\u001b[0m\n\u001b[1;32m      4\u001b[0m \u001b[0;31m# Load the CSV file\u001b[0m\u001b[0;34m\u001b[0m\u001b[0;34m\u001b[0m\u001b[0m\n\u001b[1;32m      5\u001b[0m \u001b[0;31m# Replace 'data.csv' with the name of your CSV file\u001b[0m\u001b[0;34m\u001b[0m\u001b[0;34m\u001b[0m\u001b[0m\n\u001b[0;32m----> 6\u001b[0;31m \u001b[0mdata\u001b[0m \u001b[0;34m=\u001b[0m \u001b[0mpd\u001b[0m\u001b[0;34m.\u001b[0m\u001b[0mread_csv\u001b[0m\u001b[0;34m(\u001b[0m\u001b[0;34m'data.csv'\u001b[0m\u001b[0;34m)\u001b[0m\u001b[0;34m\u001b[0m\u001b[0;34m\u001b[0m\u001b[0m\n\u001b[0m\u001b[1;32m      7\u001b[0m \u001b[0;34m\u001b[0m\u001b[0m\n\u001b[1;32m      8\u001b[0m \u001b[0;31m# Display the first 5 rows of the dataset\u001b[0m\u001b[0;34m\u001b[0m\u001b[0;34m\u001b[0m\u001b[0m\n",
            "\u001b[0;32m/usr/local/lib/python3.12/dist-packages/pandas/io/parsers/readers.py\u001b[0m in \u001b[0;36mread_csv\u001b[0;34m(filepath_or_buffer, sep, delimiter, header, names, index_col, usecols, dtype, engine, converters, true_values, false_values, skipinitialspace, skiprows, skipfooter, nrows, na_values, keep_default_na, na_filter, verbose, skip_blank_lines, parse_dates, infer_datetime_format, keep_date_col, date_parser, date_format, dayfirst, cache_dates, iterator, chunksize, compression, thousands, decimal, lineterminator, quotechar, quoting, doublequote, escapechar, comment, encoding, encoding_errors, dialect, on_bad_lines, delim_whitespace, low_memory, memory_map, float_precision, storage_options, dtype_backend)\u001b[0m\n\u001b[1;32m   1024\u001b[0m     \u001b[0mkwds\u001b[0m\u001b[0;34m.\u001b[0m\u001b[0mupdate\u001b[0m\u001b[0;34m(\u001b[0m\u001b[0mkwds_defaults\u001b[0m\u001b[0;34m)\u001b[0m\u001b[0;34m\u001b[0m\u001b[0;34m\u001b[0m\u001b[0m\n\u001b[1;32m   1025\u001b[0m \u001b[0;34m\u001b[0m\u001b[0m\n\u001b[0;32m-> 1026\u001b[0;31m     \u001b[0;32mreturn\u001b[0m \u001b[0m_read\u001b[0m\u001b[0;34m(\u001b[0m\u001b[0mfilepath_or_buffer\u001b[0m\u001b[0;34m,\u001b[0m \u001b[0mkwds\u001b[0m\u001b[0;34m)\u001b[0m\u001b[0;34m\u001b[0m\u001b[0;34m\u001b[0m\u001b[0m\n\u001b[0m\u001b[1;32m   1027\u001b[0m \u001b[0;34m\u001b[0m\u001b[0m\n\u001b[1;32m   1028\u001b[0m \u001b[0;34m\u001b[0m\u001b[0m\n",
            "\u001b[0;32m/usr/local/lib/python3.12/dist-packages/pandas/io/parsers/readers.py\u001b[0m in \u001b[0;36m_read\u001b[0;34m(filepath_or_buffer, kwds)\u001b[0m\n\u001b[1;32m    618\u001b[0m \u001b[0;34m\u001b[0m\u001b[0m\n\u001b[1;32m    619\u001b[0m     \u001b[0;31m# Create the parser.\u001b[0m\u001b[0;34m\u001b[0m\u001b[0;34m\u001b[0m\u001b[0m\n\u001b[0;32m--> 620\u001b[0;31m     \u001b[0mparser\u001b[0m \u001b[0;34m=\u001b[0m \u001b[0mTextFileReader\u001b[0m\u001b[0;34m(\u001b[0m\u001b[0mfilepath_or_buffer\u001b[0m\u001b[0;34m,\u001b[0m \u001b[0;34m**\u001b[0m\u001b[0mkwds\u001b[0m\u001b[0;34m)\u001b[0m\u001b[0;34m\u001b[0m\u001b[0;34m\u001b[0m\u001b[0m\n\u001b[0m\u001b[1;32m    621\u001b[0m \u001b[0;34m\u001b[0m\u001b[0m\n\u001b[1;32m    622\u001b[0m     \u001b[0;32mif\u001b[0m \u001b[0mchunksize\u001b[0m \u001b[0;32mor\u001b[0m \u001b[0miterator\u001b[0m\u001b[0;34m:\u001b[0m\u001b[0;34m\u001b[0m\u001b[0;34m\u001b[0m\u001b[0m\n",
            "\u001b[0;32m/usr/local/lib/python3.12/dist-packages/pandas/io/parsers/readers.py\u001b[0m in \u001b[0;36m__init__\u001b[0;34m(self, f, engine, **kwds)\u001b[0m\n\u001b[1;32m   1618\u001b[0m \u001b[0;34m\u001b[0m\u001b[0m\n\u001b[1;32m   1619\u001b[0m         \u001b[0mself\u001b[0m\u001b[0;34m.\u001b[0m\u001b[0mhandles\u001b[0m\u001b[0;34m:\u001b[0m \u001b[0mIOHandles\u001b[0m \u001b[0;34m|\u001b[0m \u001b[0;32mNone\u001b[0m \u001b[0;34m=\u001b[0m \u001b[0;32mNone\u001b[0m\u001b[0;34m\u001b[0m\u001b[0;34m\u001b[0m\u001b[0m\n\u001b[0;32m-> 1620\u001b[0;31m         \u001b[0mself\u001b[0m\u001b[0;34m.\u001b[0m\u001b[0m_engine\u001b[0m \u001b[0;34m=\u001b[0m \u001b[0mself\u001b[0m\u001b[0;34m.\u001b[0m\u001b[0m_make_engine\u001b[0m\u001b[0;34m(\u001b[0m\u001b[0mf\u001b[0m\u001b[0;34m,\u001b[0m \u001b[0mself\u001b[0m\u001b[0;34m.\u001b[0m\u001b[0mengine\u001b[0m\u001b[0;34m)\u001b[0m\u001b[0;34m\u001b[0m\u001b[0;34m\u001b[0m\u001b[0m\n\u001b[0m\u001b[1;32m   1621\u001b[0m \u001b[0;34m\u001b[0m\u001b[0m\n\u001b[1;32m   1622\u001b[0m     \u001b[0;32mdef\u001b[0m \u001b[0mclose\u001b[0m\u001b[0;34m(\u001b[0m\u001b[0mself\u001b[0m\u001b[0;34m)\u001b[0m \u001b[0;34m->\u001b[0m \u001b[0;32mNone\u001b[0m\u001b[0;34m:\u001b[0m\u001b[0;34m\u001b[0m\u001b[0;34m\u001b[0m\u001b[0m\n",
            "\u001b[0;32m/usr/local/lib/python3.12/dist-packages/pandas/io/parsers/readers.py\u001b[0m in \u001b[0;36m_make_engine\u001b[0;34m(self, f, engine)\u001b[0m\n\u001b[1;32m   1878\u001b[0m                 \u001b[0;32mif\u001b[0m \u001b[0;34m\"b\"\u001b[0m \u001b[0;32mnot\u001b[0m \u001b[0;32min\u001b[0m \u001b[0mmode\u001b[0m\u001b[0;34m:\u001b[0m\u001b[0;34m\u001b[0m\u001b[0;34m\u001b[0m\u001b[0m\n\u001b[1;32m   1879\u001b[0m                     \u001b[0mmode\u001b[0m \u001b[0;34m+=\u001b[0m \u001b[0;34m\"b\"\u001b[0m\u001b[0;34m\u001b[0m\u001b[0;34m\u001b[0m\u001b[0m\n\u001b[0;32m-> 1880\u001b[0;31m             self.handles = get_handle(\n\u001b[0m\u001b[1;32m   1881\u001b[0m                 \u001b[0mf\u001b[0m\u001b[0;34m,\u001b[0m\u001b[0;34m\u001b[0m\u001b[0;34m\u001b[0m\u001b[0m\n\u001b[1;32m   1882\u001b[0m                 \u001b[0mmode\u001b[0m\u001b[0;34m,\u001b[0m\u001b[0;34m\u001b[0m\u001b[0;34m\u001b[0m\u001b[0m\n",
            "\u001b[0;32m/usr/local/lib/python3.12/dist-packages/pandas/io/common.py\u001b[0m in \u001b[0;36mget_handle\u001b[0;34m(path_or_buf, mode, encoding, compression, memory_map, is_text, errors, storage_options)\u001b[0m\n\u001b[1;32m    871\u001b[0m         \u001b[0;32mif\u001b[0m \u001b[0mioargs\u001b[0m\u001b[0;34m.\u001b[0m\u001b[0mencoding\u001b[0m \u001b[0;32mand\u001b[0m \u001b[0;34m\"b\"\u001b[0m \u001b[0;32mnot\u001b[0m \u001b[0;32min\u001b[0m \u001b[0mioargs\u001b[0m\u001b[0;34m.\u001b[0m\u001b[0mmode\u001b[0m\u001b[0;34m:\u001b[0m\u001b[0;34m\u001b[0m\u001b[0;34m\u001b[0m\u001b[0m\n\u001b[1;32m    872\u001b[0m             \u001b[0;31m# Encoding\u001b[0m\u001b[0;34m\u001b[0m\u001b[0;34m\u001b[0m\u001b[0m\n\u001b[0;32m--> 873\u001b[0;31m             handle = open(\n\u001b[0m\u001b[1;32m    874\u001b[0m                 \u001b[0mhandle\u001b[0m\u001b[0;34m,\u001b[0m\u001b[0;34m\u001b[0m\u001b[0;34m\u001b[0m\u001b[0m\n\u001b[1;32m    875\u001b[0m                 \u001b[0mioargs\u001b[0m\u001b[0;34m.\u001b[0m\u001b[0mmode\u001b[0m\u001b[0;34m,\u001b[0m\u001b[0;34m\u001b[0m\u001b[0;34m\u001b[0m\u001b[0m\n",
            "\u001b[0;31mFileNotFoundError\u001b[0m: [Errno 2] No such file or directory: 'data.csv'"
          ]
        }
      ]
    },
    {
      "cell_type": "markdown",
      "source": [
        "Explanation:\n",
        "\n",
        "*   The pandas library is imported for data handling and analysis.\n",
        "*   The pd.read_csv() function reads the contents of a CSV (Comma-Separated Values) file into a DataFrame, which is a tabular data structure in Pandas.\n",
        "*   The head() function displays the first five rows of the DataFrame by default.\n",
        "*   You can pass a number as an argument to head() (e.g., head(10)) to view more rows if needed.\n",
        "\n",
        "Output Example:\n",
        "\n",
        "If data.csv contains:\n",
        "\n"
      ],
      "metadata": {
        "id": "kPvuHXU_x4rk"
      }
    },
    {
      "cell_type": "code",
      "source": [
        "Name,Age,City\n",
        "Muskan,21,Karnal\n",
        "Riya,22,Delhi\n",
        "Arjun,20,Mumbai\n",
        "Anjali,23,Jaipur\n",
        "Karan,25,Pune\n"
      ],
      "metadata": {
        "id": "0aQClf4YySKW"
      },
      "execution_count": null,
      "outputs": []
    },
    {
      "cell_type": "markdown",
      "source": [
        "Then the program will output:"
      ],
      "metadata": {
        "id": "VjaT5dBkyUw-"
      }
    },
    {
      "cell_type": "code",
      "source": [
        "     Name  Age    City\n",
        "0  Muskan   21  Karnal\n",
        "1    Riya   22   Delhi\n",
        "2   Arjun   20  Mumbai\n",
        "3  Anjali   23  Jaipur\n",
        "4   Karan   25    Pune\n"
      ],
      "metadata": {
        "id": "eDrWBrzmyWLB"
      },
      "execution_count": null,
      "outputs": []
    },
    {
      "cell_type": "markdown",
      "source": [
        "In summary, the program demonstrates how easily Pandas can read, store, and display structured data from a CSV file for analysis."
      ],
      "metadata": {
        "id": "jV4bDzfwyXzh"
      }
    },
    {
      "cell_type": "markdown",
      "source": [
        "**Question 10: Calculate the correlation matrix using Seaborn and visualize it with a heatmap.**\n",
        "\n",
        "Below is a Python program that calculates the correlation matrix of a dataset using Pandas and visualizes it with a Seaborn heatmap."
      ],
      "metadata": {
        "id": "uDNLhPeayYSL"
      }
    },
    {
      "cell_type": "code",
      "source": [
        "# Import necessary libraries\n",
        "import pandas as pd\n",
        "import seaborn as sns\n",
        "import matplotlib.pyplot as plt\n",
        "\n",
        "# Sample dataset\n",
        "data = {\n",
        "    'Math': [78, 85, 92, 88, 76],\n",
        "    'Science': [83, 80, 91, 89, 77],\n",
        "    'English': [72, 78, 85, 80, 70],\n",
        "    'History': [70, 75, 82, 78, 68]\n",
        "}\n",
        "\n",
        "# Convert dictionary to a DataFrame\n",
        "df = pd.DataFrame(data)\n",
        "\n",
        "# Calculate the correlation matrix\n",
        "correlation_matrix = df.corr()\n",
        "\n",
        "# Display the correlation matrix\n",
        "print(\"Correlation Matrix:\")\n",
        "print(correlation_matrix)\n",
        "\n",
        "# Create a heatmap using Seaborn\n",
        "sns.heatmap(correlation_matrix, annot=True, cmap='coolwarm', linewidths=0.5)\n",
        "\n",
        "# Add title\n",
        "plt.title(\"Correlation Heatmap of Subjects\")\n",
        "\n",
        "# Display the heatmap\n",
        "plt.show()\n"
      ],
      "metadata": {
        "colab": {
          "base_uri": "https://localhost:8080/",
          "height": 562
        },
        "id": "GqTaMOeVyfqq",
        "outputId": "135f8eb8-f1a6-4f6b-8a2f-5e81731c0c08"
      },
      "execution_count": 8,
      "outputs": [
        {
          "output_type": "stream",
          "name": "stdout",
          "text": [
            "Correlation Matrix:\n",
            "             Math   Science   English   History\n",
            "Math     1.000000  0.842251  0.996455  0.997298\n",
            "Science  0.842251  1.000000  0.840602  0.870665\n",
            "English  0.996455  0.840602  1.000000  0.997509\n",
            "History  0.997298  0.870665  0.997509  1.000000\n"
          ]
        },
        {
          "output_type": "display_data",
          "data": {
            "text/plain": [
              "<Figure size 640x480 with 2 Axes>"
            ],
            "image/png": "[encoded data removed]"
          },
          "metadata": {}
        }
      ]
    },
    {
      "cell_type": "markdown",
      "source": [
        "Explanation:\n",
        "\n",
        "*   The dataset is created as a Pandas DataFrame containing numerical data for different subjects.\n",
        "*   The .corr() function calculates the correlation coefficients between columns, showing how strongly each pair of variables is related.\n",
        "*   The Seaborn heatmap() function visualizes this correlation matrix in color form.\n",
        "1.  annot=True displays the numeric correlation values.\n",
        "2. cmap='coolwarm' sets the color palette.\n",
        "3. linewidths adds spacing between cells for readability.\n",
        "\n",
        "\n",
        "*   The plt.title() and plt.show() commands give a title and display the heatmap.\n",
        "\n",
        "Output:\n",
        "\n",
        "*   A colorful heatmap appears showing correlations between subjects.\n",
        "*   Values closer to 1 indicate a strong positive correlation, while values near -1 indicate a negative correlation.\n"
      ],
      "metadata": {
        "id": "iRKnBzL_yjLm"
      }
    }
  ]
}